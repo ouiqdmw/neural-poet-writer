{
 "cells": [
  {
   "cell_type": "code",
   "execution_count": 1,
   "metadata": {
    "collapsed": true
   },
   "outputs": [],
   "source": [
    "from rnn.model import *\n",
    "from rnn.train import *\n",
    "from rnn.predict import *\n",
    "from utils.code_book import code_book"
   ]
  },
  {
   "cell_type": "code",
   "execution_count": 2,
   "metadata": {},
   "outputs": [
    {
     "name": "stdout",
     "output_type": "stream",
     "text": [
      "50\n",
      "{' ': 0, 'e': 1, 't': 2, 'a': 3, 'o': 4, 'n': 5, 's': 6, 'i': 7, 'h': 8, 'r': 9, 'l': 10, 'd': 11, '\\n': 12, 'u': 13, 'w': 14, 'm': 15, 'g': 16, 'c': 17, 'f': 18, 'y': 19, '‚': 20, 'b': 21, 'p': 22, 'k': 23, '.': 24, 'v': 25, \"'\": 26, ';': 27, '\"': 28, 'j': 29, 'x': 30, '?': 31, 'z': 32, '!': 33, 'q': 34, '_': 35, '(': 36, ')': 37, '1': 38, '3': 39, '2': 40, '0': 41, '9': 42, '*': 43, '/': 44, '4': 45, '5': 46, '7': 47, '8': 48, '6': 49}\n"
     ]
    }
   ],
   "source": [
    "# Make Codebook\n",
    "codebook_dir = \"mid_data/\"\n",
    "codebook_name = \"code_set.txt\"\n",
    "cb = code_book(codebook_dir)\n",
    "cb.load_from(codebook_name)\n",
    "cb.debug_print()"
   ]
  },
  {
   "cell_type": "code",
   "execution_count": 3,
   "metadata": {},
   "outputs": [],
   "source": [
    "# Load Trained Model\n",
    "model_dir = \"rnn_models/\"\n",
    "model_name = \"rnn_model_result.pt\"\n",
    "decoder = torch.load(model_dir + model_name)"
   ]
  },
  {
   "cell_type": "code",
   "execution_count": 10,
   "metadata": {},
   "outputs": [
    {
     "name": "stdout",
     "output_type": "stream",
     "text": [
      "apple far‚\n",
      "and nother.\n",
      "some i covare\n",
      "my have read sunchmorte of sopered me and hart no ships you sky.\n",
      "i flowel spaccessipped\n",
      "refer‚ ross at the should the wit was the mace brotself and not of or to secon\n",
      "that very past constrettly such anywords he arries will the one i god priming beliend we manies and stant a these gor ganted in my knows my presents\n",
      "his one what is from the safm bef am and jengeness? lemman and sonce on he say‚ when a stand house‚\n",
      "\n",
      "he ways but the wind stoon and engin crun.\n",
      "i've clome. away‚ nothing and memorie caut in the chime of the ore had gamer of trunk breased meande to door of green ode a lups of the wind\n",
      "\n",
      "now some yellow\n",
      "why you lineled long the earts towers in everywalk;\n",
      "as one desting poshy dim hopped his rockeral dittrise the shrome went the discletter of but the were downed\n",
      "be and through earth i have spot undering twit and bst we reagains of shouter\n",
      "like their fame sech of biller\n",
      "old chace\n",
      "what was dreen‚ unnotines in best whose known the such that ara shup a \n"
     ]
    }
   ],
   "source": [
    "# Generate poem using rnn model\n",
    "start_str = \"apple\"\n",
    "start_sequence = cb.get_number_batch(start_str)\n",
    "poem = predict(decoder, start_sequence, 1000)\n",
    "\n",
    "print(cb.get_string(poem))"
   ]
  },
  {
   "cell_type": "code",
   "execution_count": null,
   "metadata": {},
   "outputs": [],
   "source": []
  }
 ],
 "metadata": {
  "kernelspec": {
   "display_name": "Python 3",
   "language": "python",
   "name": "python3"
  },
  "language_info": {
   "codemirror_mode": {
    "name": "ipython",
    "version": 3
   },
   "file_extension": ".py",
   "mimetype": "text/x-python",
   "name": "python",
   "nbconvert_exporter": "python",
   "pygments_lexer": "ipython3",
   "version": "3.6.3"
  }
 },
 "nbformat": 4,
 "nbformat_minor": 2
}
