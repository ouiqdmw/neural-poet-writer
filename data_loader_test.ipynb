{
 "cells": [
  {
   "cell_type": "code",
   "execution_count": 1,
   "metadata": {
    "collapsed": true
   },
   "outputs": [],
   "source": [
    "from utils.data_loader import *\n",
    "\n",
    "rawdata_dir = 'raw_data'\n",
    "middata_dir = 'mid_data'"
   ]
  },
  {
   "cell_type": "code",
   "execution_count": 2,
   "metadata": {},
   "outputs": [
    {
     "name": "stdout",
     "output_type": "stream",
     "text": [
      "gatherer start\n",
      "source read\n",
      "code_book setup start\n",
      "code_book length : 51\n",
      "batch making start\n",
      "number batch making start\n",
      "preprocess done.\n"
     ]
    }
   ],
   "source": [
    "loader = data_loader(3, 10, rawdata_dir, middata_dir)\n",
    "loader.preprocess()"
   ]
  },
  {
   "cell_type": "code",
   "execution_count": 3,
   "metadata": {},
   "outputs": [
    {
     "name": "stdout",
     "output_type": "stream",
     "text": [
      "51\n",
      "[[[ 4  5  1]\n",
      "  [ 0  2  7]\n",
      "  [ 5 19  0]\n",
      "  ..., \n",
      "  [ 2  8  0]\n",
      "  [21  7 16]\n",
      "  [ 0  1 19]]\n",
      "\n",
      " [[ 1  6 12]\n",
      "  [ 6  7  5]\n",
      "  [16  6  0]\n",
      "  ..., \n",
      "  [23  1  1]\n",
      "  [33  0 23]\n",
      "  [ 4 23  1]]\n",
      "\n",
      " [[ 1 33 28]\n",
      "  [12 12  8]\n",
      "  [ 7  6  0]\n",
      "  ..., \n",
      "  [ 6  0  2]\n",
      "  [ 4  0 21]\n",
      "  [ 4  2  8]]\n",
      "\n",
      " ..., \n",
      " [[ 8  3  2]\n",
      "  [ 0  7  6]\n",
      "  [ 0 18 13]\n",
      "  ..., \n",
      "  [ 3  5 11]\n",
      "  [ 0  9  1]\n",
      "  [17  1  7]]\n",
      "\n",
      " [[22  2  6]\n",
      "  [ 0  3  5]\n",
      "  [11  0 11]\n",
      "  ..., \n",
      "  [ 2  8  6]\n",
      "  [20  0  2]\n",
      "  [ 4 21  3]]\n",
      "\n",
      " [[17 17  4]\n",
      "  [ 0 17  9]\n",
      "  [13 15 21]\n",
      "  ..., \n",
      "  [ 0 18  9]\n",
      "  [ 7  5 16]\n",
      "  [ 1  6 24]]]\n"
     ]
    }
   ],
   "source": [
    "cb = loader.cb\n",
    "print(cb.size())\n",
    "num_batch = loader.np_batchs\n",
    "print(num_batch)"
   ]
  },
  {
   "cell_type": "code",
   "execution_count": 4,
   "metadata": {},
   "outputs": [
    {
     "name": "stdout",
     "output_type": "stream",
     "text": [
      "272\n",
      "[[[38  5  1]\n",
      "  [ 0  2  7]\n",
      "  [ 5 19  0]\n",
      "  ..., \n",
      "  [ 2  8  0]\n",
      "  [22  7 16]\n",
      "  [ 0  1 19]]\n",
      "\n",
      " [[ 1  6 12]\n",
      "  [ 6  7  5]\n",
      "  [16  6  0]\n",
      "  ..., \n",
      "  [24  1  1]\n",
      "  [50  0 69]\n",
      "  [ 3 24  1]]\n",
      "\n",
      " [[ 1 50 59]\n",
      "  [12 12 36]\n",
      "  [ 7  6  0]\n",
      "  ..., \n",
      "  [ 6  0  2]\n",
      "  [ 3  0 22]\n",
      "  [ 3  2  8]]\n",
      "\n",
      " ..., \n",
      " [[ 9  1  5]\n",
      "  [ 2  1 11]\n",
      "  [ 0 22  4]\n",
      "  ..., \n",
      "  [ 0  7  6]\n",
      "  [ 0 18 13]\n",
      "  [10 10  0]]\n",
      "\n",
      " [[ 3 18  0]\n",
      "  [22  1  4]\n",
      "  [11  6  0]\n",
      "  ..., \n",
      "  [ 0  4  5]\n",
      "  [11  0 11]\n",
      "  [ 3 10 10]]\n",
      "\n",
      " [[ 6  0  4]\n",
      "  [ 5 11  0]\n",
      "  [17 10  3]\n",
      "  ..., \n",
      "  [ 0 17  9]\n",
      "  [13 14 22]\n",
      "  [ 6 20  0]]]\n"
     ]
    }
   ],
   "source": [
    "loader2 = data_loader(3, 10, rawdata_dir, middata_dir)\n",
    "loader2.load()\n",
    "\n",
    "# load functionality check\n",
    "cb = loader2.cb\n",
    "print(cb.size())\n",
    "num_batch = loader2.np_batchs\n",
    "print(num_batch)"
   ]
  },
  {
   "cell_type": "code",
   "execution_count": 5,
   "metadata": {},
   "outputs": [
    {
     "name": "stdout",
     "output_type": "stream",
     "text": [
      "['One', ' ti', 'ny ', 'tre', 'e f', 'rog', '\\nwi', 'th ', 'big', ' ey']\n"
     ]
    }
   ],
   "source": [
    "cb = loader2.cb\n",
    "num_batch = loader2.np_batchs\n",
    "inverted_num_batch = cb.get_string_batchs(num_batch)\n",
    "print(inverted_num_batch[0])"
   ]
  },
  {
   "cell_type": "code",
   "execution_count": 6,
   "metadata": {},
   "outputs": [
    {
     "name": "stdout",
     "output_type": "stream",
     "text": [
      " etoa\n"
     ]
    }
   ],
   "source": [
    "test_arr = [0, 1, 2, 3, 4]\n",
    "test_string = cb.get_string(test_arr)\n",
    "print(test_string)"
   ]
  },
  {
   "cell_type": "code",
   "execution_count": 6,
   "metadata": {
    "collapsed": true
   },
   "outputs": [],
   "source": [
    "import codecs\n",
    "f = codecs.open(\"test.txt\", \"r\", 'utf-8')\n",
    "f1 = codecs.open(\"res.txt\", \"w\", 'utf-8')\n",
    "lines = f.readlines()\n",
    "for text in lines:\n",
    "    for ch in text:\n",
    "        if(ch != ' ' or ch != '\\n'):\n",
    "            f1.write(ch+'\\n')\n",
    "f1.close()\n",
    "f.close()"
   ]
  },
  {
   "cell_type": "code",
   "execution_count": null,
   "metadata": {
    "collapsed": true
   },
   "outputs": [],
   "source": []
  }
 ],
 "metadata": {
  "kernelspec": {
   "display_name": "Python 3",
   "language": "python",
   "name": "python3"
  },
  "language_info": {
   "codemirror_mode": {
    "name": "ipython",
    "version": 3
   },
   "file_extension": ".py",
   "mimetype": "text/x-python",
   "name": "python",
   "nbconvert_exporter": "python",
   "pygments_lexer": "ipython3",
   "version": "3.6.3"
  }
 },
 "nbformat": 4,
 "nbformat_minor": 2
}
